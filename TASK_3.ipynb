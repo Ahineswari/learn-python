{
  "nbformat": 4,
  "nbformat_minor": 0,
  "metadata": {
    "colab": {
      "name": "TASK 3.ipynb",
      "provenance": [],
      "include_colab_link": true
    },
    "kernelspec": {
      "name": "python3",
      "display_name": "Python 3"
    },
    "language_info": {
      "name": "python"
    }
  },
  "cells": [
    {
      "cell_type": "markdown",
      "metadata": {
        "id": "view-in-github",
        "colab_type": "text"
      },
      "source": [
        "<a href=\"https://colab.research.google.com/github/Ahineswari/learn-python/blob/main/TASK_3.ipynb\" target=\"_parent\"><img src=\"https://colab.research.google.com/assets/colab-badge.svg\" alt=\"Open In Colab\"/></a>"
      ]
    },
    {
      "cell_type": "markdown",
      "metadata": {
        "id": "z20IIB0eUQMN"
      },
      "source": [
        "1 - Write a program which takes a number as input from the user and check whether the number is odd or even.If odd print the number is odd if not print it is even."
      ]
    },
    {
      "cell_type": "code",
      "metadata": {
        "id": "AnnLCjwLz1Xh",
        "outputId": "312a79f4-a09d-4ef0-dbab-ed16450e5d18",
        "colab": {
          "base_uri": "https://localhost:8080/"
        }
      },
      "source": [
        "a = int(input(\"Enter the value:\"))\n",
        "b=a%2\n",
        "if(a==0):\n",
        "    print(\"the number is even\")\n",
        "else:\n",
        "    print(\"the number is even\")"
      ],
      "execution_count": 11,
      "outputs": [
        {
          "output_type": "stream",
          "text": [
            "Enter the value:2\n",
            "the number is even\n"
          ],
          "name": "stdout"
        }
      ]
    },
    {
      "cell_type": "code",
      "metadata": {
        "id": "dVgGJ-wTVRit"
      },
      "source": [
        "#please enter your answer below this line\n"
      ],
      "execution_count": null,
      "outputs": []
    },
    {
      "cell_type": "markdown",
      "metadata": {
        "id": "7778XD8PVblj"
      },
      "source": [
        "2 -Write a program to find the largest among three numbers and print the largest number."
      ]
    },
    {
      "cell_type": "code",
      "metadata": {
        "id": "m0tUOkOFWR-d"
      },
      "source": [
        "#please enter your answer below this line"
      ],
      "execution_count": null,
      "outputs": []
    },
    {
      "cell_type": "code",
      "metadata": {
        "id": "zFImDq877u7L",
        "outputId": "a52ec98e-c7a8-4dc2-d240-2f1b17a37033",
        "colab": {
          "base_uri": "https://localhost:8080/"
        }
      },
      "source": [
        "a=int(input(\"Enter the value:\"))\n",
        "b=int(input(\"Enter the value:\"))\n",
        "c=int(input(\"Enter the value:\"))\n",
        "if(a>b):\n",
        "  if(a>c):\n",
        "     print(\"a is the largest number\")\n",
        "else:\n",
        "   print(\"c is the largest number\")\n",
        "if(b>c):\n",
        "   print(\"b is the largest number\")\n",
        "else:\n",
        "   print(\"c is the largest number\")"
      ],
      "execution_count": 21,
      "outputs": [
        {
          "output_type": "stream",
          "text": [
            "Enter the value:3\n",
            "Enter the value:4\n",
            "Enter the value:5\n",
            "c is the largest number\n",
            "c is the largest number\n"
          ],
          "name": "stdout"
        }
      ]
    },
    {
      "cell_type": "markdown",
      "metadata": {
        "id": "Jg2Ns4OQWaJy"
      },
      "source": [
        "3 -Write a function to prompt for a score between 0.0 and 1.0.\n",
        "\n",
        "    If the score is out of range, print an error.\n",
        "    If the score is between 0.0 and 1.0, print a grade using the following table:\n",
        "    Score Grade\n",
        "             Score\tGrade\n",
        "            >= 0.9\tA\n",
        "            >= 0.8\tB\n",
        "            >= 0.7\tC\n",
        "            >= 0.6\tD\n",
        "             < 0.6\tF\n",
        "If the user enters a value out of range, print a suitable error message and exit. For the test, enter a score of 0.85."
      ]
    },
    {
      "cell_type": "code",
      "metadata": {
        "id": "6DLbGe6XXZPx"
      },
      "source": [
        "#please enter your answer below this line"
      ],
      "execution_count": null,
      "outputs": []
    },
    {
      "cell_type": "code",
      "metadata": {
        "id": "sSP5ZCyy-tFx",
        "outputId": "7db1d74c-d7a9-4df1-a109-142a97c60405",
        "colab": {
          "base_uri": "https://localhost:8080/"
        }
      },
      "source": [
        "a=float(input(\"Enter the value:\"))\n",
        "if(a>=0.9):\n",
        "    print=(\"A\")\n",
        "elif(a>=0.8):\n",
        "    print=(\"B\")\n",
        "elif(a>=0.7):\n",
        "    print=(\"C\")\n",
        "elif(a>=0.6):\n",
        "    print=(\"D\")\n",
        "elif(a<0.6):\n",
        "    print=(\"F\")\n",
        "else:\n",
        "    a=\"out of range\""
      ],
      "execution_count": 37,
      "outputs": [
        {
          "output_type": "stream",
          "text": [
            "Enter the value:0.9\n"
          ],
          "name": "stdout"
        }
      ]
    },
    {
      "cell_type": "markdown",
      "metadata": {
        "id": "-o0scDq7WkVT"
      },
      "source": [
        ""
      ]
    }
  ]
}